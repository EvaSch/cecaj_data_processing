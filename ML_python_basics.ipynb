{
 "cells": [
  {
   "cell_type": "markdown",
   "metadata": {},
   "source": [
    "## 6 line python machine learning algortihm\n",
    "from https://www.youtube.com/watch?v=cKxRvEZd3Mw"
   ]
  },
  {
   "cell_type": "code",
   "execution_count": 14,
   "metadata": {
    "collapsed": false
   },
   "outputs": [],
   "source": [
    "from sklearn import tree\n",
    "\n",
    "# features:[g of fruit, texture] 0= bumpy, 1=smooth\n",
    "# labels: 0= apple, 1= orange"
   ]
  },
  {
   "cell_type": "code",
   "execution_count": 15,
   "metadata": {
    "collapsed": false
   },
   "outputs": [],
   "source": [
    "# training data\n",
    "features = [[140,1], [130,1], [150,0], [170,1]] \n",
    "labels = [0,0,1,1]\n",
    "\n",
    "# machine learning algorithm\n",
    "clf = tree.DecisionTreeClassifier() # create box for classification rules\n",
    "clf = clf.fit(features, labels) # find patterns to create box of rules \n",
    "\n",
    "# make prediction for example dat\n",
    "prediction_result = clf.predict([[160, 0]])"
   ]
  },
  {
   "cell_type": "code",
   "execution_count": 16,
   "metadata": {
    "collapsed": false
   },
   "outputs": [
    {
     "name": "stdout",
     "output_type": "stream",
     "text": [
      "[1]\n"
     ]
    }
   ],
   "source": [
    "# the expected result is 1 as the fruit is based on its features an orange\n",
    "print(prediction_result)"
   ]
  }
 ],
 "metadata": {
  "kernelspec": {
   "display_name": "Python 3",
   "language": "python",
   "name": "python3"
  },
  "language_info": {
   "codemirror_mode": {
    "name": "ipython",
    "version": 3
   },
   "file_extension": ".py",
   "mimetype": "text/x-python",
   "name": "python",
   "nbconvert_exporter": "python",
   "pygments_lexer": "ipython3",
   "version": "3.6.0"
  }
 },
 "nbformat": 4,
 "nbformat_minor": 2
}
