{
 "cells": [
  {
   "cell_type": "markdown",
   "metadata": {},
   "source": [
    "# Visualize the sleep score values from Cecaj data with a year\n",
    "* this programm is designed to visualize the sleep scores from Cecaj data for every day within a year in a calendar heat map\n",
    "    \n"
   ]
  },
  {
   "cell_type": "code",
   "execution_count": 234,
   "metadata": {
    "collapsed": true
   },
   "outputs": [],
   "source": [
    "######## config section ########\n",
    "# specify input files\n",
    "sleep_data_file = 'OneYearFitBitDataSleepScore.csv'\n"
   ]
  },
  {
   "cell_type": "code",
   "execution_count": 235,
   "metadata": {
    "collapsed": false
   },
   "outputs": [
    {
     "data": {
      "text/html": [
       "<div>\n",
       "<table border=\"1\" class=\"dataframe\">\n",
       "  <thead>\n",
       "    <tr style=\"text-align: right;\">\n",
       "      <th></th>\n",
       "      <th>MinutesOfSleep</th>\n",
       "      <th>MinutesOfBeingAwake</th>\n",
       "      <th>NumberOfAwakings</th>\n",
       "      <th>LengthOfRestInMinutes</th>\n",
       "      <th>SleepScore</th>\n",
       "      <th>sleep_labels</th>\n",
       "    </tr>\n",
       "    <tr>\n",
       "      <th>Date</th>\n",
       "      <th></th>\n",
       "      <th></th>\n",
       "      <th></th>\n",
       "      <th></th>\n",
       "      <th></th>\n",
       "      <th></th>\n",
       "    </tr>\n",
       "  </thead>\n",
       "  <tbody>\n",
       "    <tr>\n",
       "      <th>09-05-2015</th>\n",
       "      <td>384</td>\n",
       "      <td>26</td>\n",
       "      <td>23</td>\n",
       "      <td>417</td>\n",
       "      <td>0.858513</td>\n",
       "      <td>1.0</td>\n",
       "    </tr>\n",
       "    <tr>\n",
       "      <th>10-05-2015</th>\n",
       "      <td>454</td>\n",
       "      <td>35</td>\n",
       "      <td>21</td>\n",
       "      <td>491</td>\n",
       "      <td>0.853360</td>\n",
       "      <td>1.0</td>\n",
       "    </tr>\n",
       "    <tr>\n",
       "      <th>11-05-2015</th>\n",
       "      <td>387</td>\n",
       "      <td>46</td>\n",
       "      <td>25</td>\n",
       "      <td>436</td>\n",
       "      <td>0.782110</td>\n",
       "      <td>2.0</td>\n",
       "    </tr>\n",
       "    <tr>\n",
       "      <th>12-05-2015</th>\n",
       "      <td>311</td>\n",
       "      <td>31</td>\n",
       "      <td>21</td>\n",
       "      <td>350</td>\n",
       "      <td>0.800000</td>\n",
       "      <td>2.0</td>\n",
       "    </tr>\n",
       "    <tr>\n",
       "      <th>13-05-2015</th>\n",
       "      <td>407</td>\n",
       "      <td>65</td>\n",
       "      <td>44</td>\n",
       "      <td>491</td>\n",
       "      <td>0.696538</td>\n",
       "      <td>3.0</td>\n",
       "    </tr>\n",
       "  </tbody>\n",
       "</table>\n",
       "</div>"
      ],
      "text/plain": [
       "            MinutesOfSleep  MinutesOfBeingAwake  NumberOfAwakings  \\\n",
       "Date                                                                \n",
       "09-05-2015             384                   26                23   \n",
       "10-05-2015             454                   35                21   \n",
       "11-05-2015             387                   46                25   \n",
       "12-05-2015             311                   31                21   \n",
       "13-05-2015             407                   65                44   \n",
       "\n",
       "            LengthOfRestInMinutes  SleepScore  sleep_labels  \n",
       "Date                                                         \n",
       "09-05-2015                    417    0.858513           1.0  \n",
       "10-05-2015                    491    0.853360           1.0  \n",
       "11-05-2015                    436    0.782110           2.0  \n",
       "12-05-2015                    350    0.800000           2.0  \n",
       "13-05-2015                    491    0.696538           3.0  "
      ]
     },
     "metadata": {},
     "output_type": "display_data"
    },
    {
     "name": "stderr",
     "output_type": "stream",
     "text": [
      "/home/eva/anaconda3/lib/python3.6/site-packages/calmap/__init__.py:294: FutureWarning: how in .resample() is deprecated\n",
      "the new syntax is .resample(...).sum()\n",
      "  by_day = data.resample('D', how=how)\n",
      "/home/eva/anaconda3/lib/python3.6/site-packages/calmap/__init__.py:146: MatplotlibDeprecationWarning: The get_axis_bgcolor function was deprecated in version 2.0. Use get_facecolor instead.\n",
      "  linecolor = ax.get_axis_bgcolor()\n",
      "/home/eva/anaconda3/lib/python3.6/site-packages/matplotlib/font_manager.py:1297: UserWarning: findfont: Font family ['Arial'] not found. Falling back to DejaVu Sans\n",
      "  (prop.get_family(), self.defaultFamily[fontext]))\n"
     ]
    },
    {
     "data": {
      "text/plain": [
       "(<matplotlib.figure.Figure at 0x7fd372d52860>,\n",
       " array([<matplotlib.axes._subplots.AxesSubplot object at 0x7fd372e0d8d0>,\n",
       "        <matplotlib.axes._subplots.AxesSubplot object at 0x7fd372b516a0>], dtype=object))"
      ]
     },
     "execution_count": 235,
     "metadata": {},
     "output_type": "execute_result"
    },
    {
     "data": {
      "image/png": "[encoded data removed]",
      "text/plain": [
       "<matplotlib.figure.Figure at 0x7fd372d52860>"
      ]
     },
     "metadata": {},
     "output_type": "display_data"
    }
   ],
   "source": [
    "import pandas as pd\n",
    "from IPython.display import display, HTML\n",
    "import matplotlib.pyplot as plt\n",
    "import calmap\n",
    "import datetime\n",
    "\n",
    "sleep_data = pd.read_csv(sleep_data_file, sep = ',', index_col = 0)\n",
    "display(sleep_data.head())\n",
    "    \n",
    "sleep_data_edited = sleep_data.iloc[:,[4]]\n",
    "sleep_data_edited.index = pd.to_datetime(sleep_data_edited.index, dayfirst=True)\n",
    "#sleep_data_edited = sleep_data_edited[(datetime.datetime(sleep_data_edited.index,\"%d-%m-%Y\")).year == 2015]\n",
    "sleep_data_edited = sleep_data_edited.transpose()\n",
    "sleep_data_edited = sleep_data_edited.iloc[0]\n",
    "\n",
    "    \n",
    "calmap.calendarplot(sleep_data_edited,daylabels='MTWTFSS', fillcolor = \"lightgrey\", cmap='YlGn', \\\n",
    "                    fig_kws=dict(figsize=(8, 4)))\n"
   ]
  }
 ],
 "metadata": {
  "kernelspec": {
   "display_name": "Python 3",
   "language": "python",
   "name": "python3"
  },
  "language_info": {
   "codemirror_mode": {
    "name": "ipython",
    "version": 3
   },
   "file_extension": ".py",
   "mimetype": "text/x-python",
   "name": "python",
   "nbconvert_exporter": "python",
   "pygments_lexer": "ipython3",
   "version": "3.6.0"
  }
 },
 "nbformat": 4,
 "nbformat_minor": 2
}
