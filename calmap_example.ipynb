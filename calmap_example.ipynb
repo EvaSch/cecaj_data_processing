{
 "cells": [
  {
   "cell_type": "code",
   "execution_count": 8,
   "metadata": {
    "collapsed": false
   },
   "outputs": [
    {
     "data": {
      "text/plain": [
       "2015-12-11   -0.998662\n",
       "2014-06-17   -0.136021\n",
       "2014-11-04   -0.240216\n",
       "2014-02-07    0.217959\n",
       "2014-05-05   -0.188949\n",
       "2014-05-21   -0.171695\n",
       "2014-12-11   -0.143083\n",
       "2014-04-11   -1.030827\n",
       "2014-03-27    0.605146\n",
       "2015-06-13    0.162624\n",
       "2015-08-14    2.445115\n",
       "2015-02-03    1.192440\n",
       "2014-10-10    0.751080\n",
       "2015-04-11   -2.816624\n",
       "2015-09-18   -1.545717\n",
       "2014-07-05   -0.378677\n",
       "2014-07-04    1.201337\n",
       "2014-09-25   -0.472154\n",
       "2015-10-29   -2.032129\n",
       "2014-07-31   -2.532981\n",
       "2014-02-26    0.872134\n",
       "2014-09-23   -1.356469\n",
       "2014-12-27    1.824630\n",
       "2015-08-16    0.876438\n",
       "2014-08-03    1.516988\n",
       "2015-06-22    0.050273\n",
       "2015-04-14   -1.985682\n",
       "2015-10-04    0.260657\n",
       "2014-02-21   -1.233212\n",
       "2014-04-09    1.842133\n",
       "                ...   \n",
       "2015-11-14   -2.708853\n",
       "2015-05-22    0.148180\n",
       "2014-03-09    1.034055\n",
       "2014-08-20    0.242292\n",
       "2015-06-08   -0.712761\n",
       "2014-08-16   -0.104190\n",
       "2015-05-11    0.430522\n",
       "2015-08-25    0.538674\n",
       "2014-04-10   -0.029848\n",
       "2015-11-30    0.105490\n",
       "2014-07-20   -0.049128\n",
       "2015-05-10   -2.291897\n",
       "2015-08-28    1.144763\n",
       "2014-06-06    0.791708\n",
       "2014-05-07    0.186594\n",
       "2014-07-18   -0.462028\n",
       "2015-05-11    0.042859\n",
       "2014-11-29    0.887199\n",
       "2014-03-13   -0.017270\n",
       "2015-03-18   -0.407923\n",
       "2015-07-20   -0.550758\n",
       "2014-12-18    0.693004\n",
       "2015-01-15   -0.499656\n",
       "2015-09-29    0.591858\n",
       "2015-09-25    1.982174\n",
       "2014-12-12    0.065725\n",
       "2015-05-05    1.582024\n",
       "2015-03-21   -0.347094\n",
       "2015-03-17    0.982412\n",
       "2015-09-28   -0.627963\n",
       "dtype: float64"
      ]
     },
     "metadata": {},
     "output_type": "display_data"
    },
    {
     "name": "stderr",
     "output_type": "stream",
     "text": [
      "/home/eva/anaconda3/lib/python3.6/site-packages/calmap/__init__.py:128: FutureWarning: how in .resample() is deprecated\n",
      "the new syntax is .resample(...).sum()\n",
      "  by_day = data.resample('D', how=how)\n",
      "/home/eva/anaconda3/lib/python3.6/site-packages/calmap/__init__.py:146: MatplotlibDeprecationWarning: The get_axis_bgcolor function was deprecated in version 2.0. Use get_facecolor instead.\n",
      "  linecolor = ax.get_axis_bgcolor()\n"
     ]
    },
    {
     "data": {
      "text/plain": [
       "<matplotlib.axes._subplots.AxesSubplot at 0x7f1d46807780>"
      ]
     },
     "execution_count": 8,
     "metadata": {},
     "output_type": "execute_result"
    },
    {
     "data": {
      "image/png": "[encoded data removed]",
      "text/plain": [
       "<matplotlib.figure.Figure at 0x7f1d4680d3c8>"
      ]
     },
     "metadata": {},
     "output_type": "display_data"
    }
   ],
   "source": [
    "import numpy as np; np.random.seed(sum(map(ord, 'calmap')))\n",
    "import pandas as pd\n",
    "import calmap\n",
    "from IPython.display import display, HTML\n",
    "\n",
    "\n",
    "all_days = pd.date_range('1/15/2014', periods=700, freq='D')\n",
    "days = np.random.choice(all_days, 500)\n",
    "events = pd.Series(np.random.randn(len(days)), index=days)\n",
    "display(events)\n",
    "\n",
    "calmap.yearplot(events, year=2015)"
   ]
  }
 ],
 "metadata": {
  "kernelspec": {
   "display_name": "Python 3",
   "language": "python",
   "name": "python3"
  },
  "language_info": {
   "codemirror_mode": {
    "name": "ipython",
    "version": 3
   },
   "file_extension": ".py",
   "mimetype": "text/x-python",
   "name": "python",
   "nbconvert_exporter": "python",
   "pygments_lexer": "ipython3",
   "version": "3.6.0"
  }
 },
 "nbformat": 4,
 "nbformat_minor": 2
}
